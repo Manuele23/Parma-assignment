{
 "cells": [
  {
   "cell_type": "markdown",
   "id": "a8231ede",
   "metadata": {},
   "source": [
    "# Environment Setup"
   ]
  },
  {
   "cell_type": "markdown",
   "id": "9c63a772",
   "metadata": {},
   "source": [
    "Before starting the analysis, let's install all the required Python packages that will be useful for the work. The steps consist in:\n",
    "\n",
    "1. Locate the `requirements.txt` file in the project structure\n",
    "2. Install all dependencies directly into this kernel\n",
    "3. Verify the installed package versions"
   ]
  },
  {
   "cell_type": "code",
   "execution_count": null,
   "id": "9f423682",
   "metadata": {},
   "outputs": [
    {
     "name": "stdout",
     "output_type": "stream",
     "text": [
      "Using requirements at: /Users/manuelemustari/Desktop/Parma-assignment/requirements.txt\n",
      "Installing dependencies...\n",
      "Dependencies installed successfully\n"
     ]
    }
   ],
   "source": [
    "# Locate `requirements.txt` in the parent folder and install dependencies\n",
    "from pathlib import Path\n",
    "import sys, subprocess\n",
    "\n",
    "# Path to requirements.txt (parent folder of this notebook)\n",
    "req = \"requirements.txt\"\n",
    "\n",
    "if not Path(req).exists():\n",
    "    raise FileNotFoundError(\n",
    "        f\"Could not find `requirements.txt` at expected location: {req}\"\n",
    "    )\n",
    "\n",
    "# Print the path to the requirements file\n",
    "print(f\"Using requirements at: {req.resolve()}\")\n",
    "print(\"Installing dependencies...\")\n",
    "\n",
    "# Install in the current Jupyter kernel\n",
    "cmd = [sys.executable, \"-m\", \"pip\", \"install\", \"-r\", str(req)]\n",
    "result = subprocess.run(cmd, capture_output=True, text=True)\n",
    "\n",
    "if result.returncode != 0:\n",
    "    print(result.stdout)\n",
    "    print(result.stderr)\n",
    "    raise RuntimeError(\"pip installation failed. See logs above.\")\n",
    "else:\n",
    "    print(\"Dependencies installed successfully\")\n"
   ]
  },
  {
   "cell_type": "markdown",
   "id": "23cff3b3",
   "metadata": {},
   "source": [
    "## Verify Installed Versions"
   ]
  },
  {
   "cell_type": "markdown",
   "id": "7910e789",
   "metadata": {},
   "source": [
    "Let's print the version of each package to make sure everything is correctly set up."
   ]
  },
  {
   "cell_type": "code",
   "execution_count": null,
   "id": "8edda895",
   "metadata": {},
   "outputs": [
    {
     "name": "stdout",
     "output_type": "stream",
     "text": [
      "Python: 3.9.6  |  Platform: macOS-14.5-arm64-arm-64bit\n",
      "- pandas               2.2.3\n",
      "- numpy                1.26.4\n",
      "- scipy                1.13.1\n",
      "- pyarrow              18.1.0\n",
      "- sklearn              1.5.2\n",
      "- matplotlib           3.9.2\n",
      "- seaborn              0.13.2\n",
      "- mplsoccer            1.4.0\n",
      "- notebook             7.2.2\n",
      "- tqdm                 4.67.0\n",
      "- statsbombpy          1.16.0\n"
     ]
    }
   ],
   "source": [
    "import platform\n",
    "import importlib\n",
    "import importlib.metadata as metadata\n",
    "\n",
    "# Read package names from requirements.txt (only names)\n",
    "pkgs = []\n",
    "for line in req.read_text().splitlines():\n",
    "    line = line.strip()\n",
    "    if not line or line.startswith(\"#\"):\n",
    "        continue\n",
    "    pkg_name = line.split(\"==\")[0].split(\">=\")[0].split(\"<=\")[0].strip()\n",
    "    pkgs.append(pkg_name)\n",
    "\n",
    "print(f\"Python: {sys.version.split()[0]}  |  Platform: {platform.platform()}\")\n",
    "\n",
    "for pkg in pkgs:\n",
    "    # Handle special case: package name variations\n",
    "    if pkg.lower() == \"scikit-learn\":\n",
    "        pkg = \"sklearn\"\n",
    "    try:\n",
    "        mod = importlib.import_module(pkg)\n",
    "        try:\n",
    "            ver = metadata.version(pkg)\n",
    "        except metadata.PackageNotFoundError:\n",
    "            ver = getattr(mod, \"__version__\", \"unknown\")\n",
    "        print(f\"- {pkg:20s} {ver}\")\n",
    "    except ModuleNotFoundError:\n",
    "        print(f\"- {pkg:20s} not installed\")\n",
    "        continue"
   ]
  },
  {
   "cell_type": "markdown",
   "id": "ef550a58",
   "metadata": {},
   "source": [
    "**Setup Complete**:\n",
    "If any imports fail later, restart the Jupyter kernel and re-run this notebook."
   ]
  }
 ],
 "metadata": {
  "kernelspec": {
   "display_name": "Python 3",
   "language": "python",
   "name": "python3"
  },
  "language_info": {
   "codemirror_mode": {
    "name": "ipython",
    "version": 3
   },
   "file_extension": ".py",
   "mimetype": "text/x-python",
   "name": "python",
   "nbconvert_exporter": "python",
   "pygments_lexer": "ipython3",
   "version": "3.9.6"
  }
 },
 "nbformat": 4,
 "nbformat_minor": 5
}
