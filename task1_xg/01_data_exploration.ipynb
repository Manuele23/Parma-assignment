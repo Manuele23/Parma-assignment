{
 "cells": [
  {
   "cell_type": "code",
   "execution_count": null,
   "id": "5e80d400",
   "metadata": {},
   "outputs": [],
   "source": [
    "%pip install statsbombpy"
   ]
  },
  {
   "cell_type": "code",
   "execution_count": null,
   "id": "9635a2bb",
   "metadata": {},
   "outputs": [],
   "source": [
    "# 01_data_exploration.ipynb\n",
    "\n",
    "# Installazione (se non già fatto)\n",
    "# %pip install statsbombpy\n",
    "\n",
    "from statsbombpy import sb\n",
    "import pandas as pd\n",
    "\n",
    "# 1. Lista delle competizioni disponibili\n",
    "competitions = sb.competitions()\n",
    "print(\"Competizioni disponibili:\")\n",
    "display(competitions)\n",
    "\n",
    "# 2. Filtraggio competizioni con freeze frame disponibili\n",
    "# (StatsBomb fornisce freeze frame solo per alcune partite, es. WSL, FAWSL, ecc.)\n",
    "# Noi qui per Task1 cerchiamo tutte quelle che hanno \"Women's Super League\" o \"FAWSL\"\n",
    "# oppure includiamo quelle che vogliamo analizzare\n",
    "competitions_with_ff = competitions[\n",
    "    competitions['competition_name'].str.contains(\"Women's|FA Women's|FAWSL|World Cup\", case=False, na=False)\n",
    "]\n",
    "print(\"Competizioni candidate con freeze frame:\")\n",
    "display(competitions_with_ff)\n",
    "\n",
    "# 3. Scegli una competizione e stagione\n",
    "comp_id = int(competitions_with_ff.iloc[0]['competition_id'])\n",
    "season_id = int(competitions_with_ff.iloc[0]['season_id'])\n",
    "\n",
    "print(f\"\\nScarico matches per {competitions_with_ff.iloc[0]['competition_name']} - {competitions_with_ff.iloc[0]['season_name']}\")\n",
    "matches = sb.matches(competition_id=comp_id, season_id=season_id)\n",
    "display(matches.head())\n",
    "\n",
    "# 4. Prendo un match e carico gli eventi\n",
    "match_id = matches.iloc[0]['match_id']\n",
    "events = sb.events(match_id=match_id, fmt='dataframe')\n",
    "display(events.head())\n",
    "\n",
    "# 5. Filtro solo i tiri\n",
    "shots = events[events['type'] == 'Shot']\n",
    "print(f\"Numero di tiri nel match {match_id}: {len(shots)}\")\n",
    "display(shots.head())\n",
    "\n",
    "# 6. Controllo presenza del freeze frame\n",
    "# La colonna 'shot_freeze_frame' contiene i dati di tracking dei giocatori vicini alla palla\n",
    "has_ff = shots['shot_freeze_frame'].notna().sum()\n",
    "print(f\"Tiri con freeze frame disponibile: {has_ff} su {len(shots)}\")\n",
    "\n",
    "# Visualizzo un esempio di freeze frame (lista di dict)\n",
    "example_ff = shots.iloc[0]['shot_freeze_frame']\n",
    "print(\"Esempio freeze frame:\")\n",
    "example_ff[:3]  # primi 3 giocatori nel freeze frame\n"
   ]
  }
 ],
 "metadata": {
  "kernelspec": {
   "display_name": "Python 3",
   "language": "python",
   "name": "python3"
  },
  "language_info": {
   "name": "python",
   "version": "3.9.6"
  }
 },
 "nbformat": 4,
 "nbformat_minor": 5
}
