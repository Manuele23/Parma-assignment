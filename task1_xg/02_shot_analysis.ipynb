{
 "cells": [
  {
   "cell_type": "markdown",
   "id": "bb9eea3e",
   "metadata": {},
   "source": [
    "# Exploration of Shots Across All Competitions  "
   ]
  },
  {
   "cell_type": "markdown",
   "id": "9df358fa",
   "metadata": {},
   "source": [
    "In the code below, all **shot events** from each competition and each season present in the StatsBomb Open Data are collected. The objective is to determine:  \n",
    "\n",
    "- the **total number of shots** in the dataset,  \n",
    "- how many of them include a **freeze frame**,  \n",
    "- and the proportion of shots with and without this contextual information"
   ]
  },
  {
   "cell_type": "code",
   "execution_count": null,
   "id": "aaf0243d",
   "metadata": {},
   "outputs": [
    {
     "name": "stderr",
     "output_type": "stream",
     "text": [
      "Processing competitions: 100%|██████████| 75/75 [42:10<00:00, 33.74s/it]  \n"
     ]
    },
    {
     "name": "stdout",
     "output_type": "stream",
     "text": [
      "----------------------------------\n",
      "Total shots         : 88023\n",
      "With freeze frame   : 86833\n",
      "Without freeze frame: 1190\n",
      "Percentage with FF  : 98.65%\n"
     ]
    }
   ],
   "source": [
    "from statsbombpy import sb\n",
    "import pandas as pd\n",
    "from tqdm import tqdm\n",
    "\n",
    "import warnings\n",
    "warnings.filterwarnings(\"ignore\")\n",
    "\n",
    "# Retrieve all available competitions in StatsBomb Open Data\n",
    "competitions = sb.competitions()\n",
    "\n",
    "# Store all shots here\n",
    "all_shots = []\n",
    "\n",
    "# Iterate over each competition-season pair\n",
    "for _, row in tqdm(competitions.iterrows(), total=len(competitions), desc=\"Processing competitions\"):\n",
    "    comp_id = row['competition_id']\n",
    "    season_id = row['season_id']\n",
    "\n",
    "    # Retrieve all matches for the given competition and season\n",
    "    matches = sb.matches(comp_id, season_id)\n",
    "\n",
    "    # Iterate through each match\n",
    "    for match_id in tqdm(matches['match_id'], desc=f\"Comp {comp_id}, Season {season_id}\", leave=False):\n",
    "        \n",
    "        # Retrieve all events for this match\n",
    "        events = sb.events(match_id=match_id)\n",
    "\n",
    "        # Filter only \"Shot\" events\n",
    "        shots = events[events['type'] == 'Shot']\n",
    "\n",
    "        # If there are shots in this match, append them to our global list\n",
    "        if not shots.empty:\n",
    "            all_shots.append(shots)\n",
    "\n",
    "# Concatenate all shots into a single DataFrame\n",
    "shots_df = pd.concat(all_shots, ignore_index=True)\n",
    "\n",
    "# Count statistics\n",
    "total_shots = len(shots_df)\n",
    "shots_with_ff = shots_df['shot_freeze_frame'].notna().sum()\n",
    "shots_without_ff = total_shots - shots_with_ff\n",
    "\n",
    "# Print summary statistics\n",
    "print(\"----------------------------------\")\n",
    "print(f\"Total shots         : {total_shots}\")\n",
    "print(f\"With freeze frame   : {shots_with_ff}\")\n",
    "print(f\"Without freeze frame: {shots_without_ff}\")\n",
    "print(f\"Percentage with FF  : {shots_with_ff / total_shots:.2%}\")\n"
   ]
  },
  {
   "cell_type": "markdown",
   "id": "fc9c1fda",
   "metadata": {},
   "source": [
    "#### Save the df with all the shots from all competitions and seasons"
   ]
  },
  {
   "cell_type": "code",
   "execution_count": null,
   "id": "64e0f6b1",
   "metadata": {},
   "outputs": [
    {
     "name": "stdout",
     "output_type": "stream",
     "text": [
      "Saving shots_df.csv\n"
     ]
    }
   ],
   "source": [
    "# Save the DataFrame to a CSV file\n",
    "from pathlib import Path\n",
    "\n",
    "# Define the source path for the saved DataFrame\n",
    "src_path = Path(\"../task1_xg/data/shots_df.csv\")\n",
    "print(f\"Saving {src_path.name}\")\n",
    "\n",
    "# Save the DataFrame\n",
    "shots_df.to_csv(src_path, index=False)"
   ]
  },
  {
   "cell_type": "markdown",
   "id": "665c7ae0",
   "metadata": {},
   "source": [
    "## Analysis of Shot Statsbomb xG"
   ]
  },
  {
   "cell_type": "markdown",
   "id": "52890f69",
   "metadata": {},
   "source": [
    "Below, the `shots_df.csv` file is loaded with the column `shot_statsbomb_xg` explicitly cast to type `float64`.  \n",
    "This guarantees that numeric values are stored as floats, while invalid entries (e.g., empty strings or `\"null\"`) are automatically converted to `NaN`.   The column data type and the total number of missing values are then displayed to verify that no missing values are retrieved."
   ]
  },
  {
   "cell_type": "code",
   "execution_count": null,
   "id": "6b8383b2",
   "metadata": {},
   "outputs": [
    {
     "name": "stdout",
     "output_type": "stream",
     "text": [
      "Column type: float64\n",
      "Total NaN values: 0\n"
     ]
    }
   ],
   "source": [
    "import pandas as pd\n",
    "from pathlib import Path\n",
    "\n",
    "import warnings\n",
    "warnings.filterwarnings(\"ignore\")\n",
    "\n",
    "src_path = Path(\"../task1_xg/data/shots_df.csv\")\n",
    "\n",
    "# Force 'shot_statsbomb_xg' to float, invalid values will be converted to NaN\n",
    "shots_df = pd.read_csv(src_path, dtype={\"shot_statsbomb_xg\": \"float64\"})\n",
    "\n",
    "print(\"Column type:\", shots_df[\"shot_statsbomb_xg\"].dtype)\n",
    "print(\"Total NaN values:\", shots_df[\"shot_statsbomb_xg\"].isna().sum())"
   ]
  }
 ],
 "metadata": {
  "kernelspec": {
   "display_name": "Python 3",
   "language": "python",
   "name": "python3"
  },
  "language_info": {
   "codemirror_mode": {
    "name": "ipython",
    "version": 3
   },
   "file_extension": ".py",
   "mimetype": "text/x-python",
   "name": "python",
   "nbconvert_exporter": "python",
   "pygments_lexer": "ipython3",
   "version": "3.9.6"
  }
 },
 "nbformat": 4,
 "nbformat_minor": 5
}
