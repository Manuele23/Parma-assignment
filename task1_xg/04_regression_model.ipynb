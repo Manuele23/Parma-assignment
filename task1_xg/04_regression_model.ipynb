{
 "cells": [
  {
   "cell_type": "markdown",
   "id": "d62f28b0",
   "metadata": {},
   "source": [
    "# Regression Model"
   ]
  },
  {
   "cell_type": "markdown",
   "id": "499fc956",
   "metadata": {},
   "source": [
    "Since the target variable `target_xg` is continuous in the range [0, 1], the problem is a **regression task**.  \n",
    "We begin with a **Linear Regression** model to establish a baseline, evaluating results with:\n",
    "\n",
    "- **Mean Absolute Error (MAE)**  \n",
    "- **Root Mean Squared Error (RMSE)**  \n",
    "- **R² score**  \n",
    "\n",
    "This baseline provides a first benchmark. It is possible also to try more advanced models – such as **Ridge, Lasso, and Tree-based regressors** – to improve predictive performance and better capture non-linear relationships in the data. "
   ]
  },
  {
   "cell_type": "markdown",
   "id": "0f27126e",
   "metadata": {},
   "source": [
    "### DS0 - Linear Regression"
   ]
  },
  {
   "cell_type": "code",
   "execution_count": null,
   "id": "ed61d3d0",
   "metadata": {},
   "outputs": [],
   "source": [
    "from sklearn.model_selection import train_test_split\n",
    "from sklearn.linear_model import LinearRegression\n",
    "from sklearn.metrics import mean_absolute_error, mean_squared_error, r2_score\n",
    "import numpy as np\n",
    "\n",
    "# Features and target\n",
    "X = ds0.drop(columns=[\"target_xg\"])\n",
    "y = ds0[\"target_xg\"]\n",
    "\n",
    "# Train-test split\n",
    "X_train, X_test, y_train, y_test = train_test_split(\n",
    "    X, y, test_size=0.2, random_state=42\n",
    ")\n",
    "\n",
    "# Linear Regression\n",
    "lin_reg = LinearRegression()\n",
    "lin_reg.fit(X_train, y_train)\n",
    "\n",
    "# Predictions\n",
    "y_pred = lin_reg.predict(X_test)\n",
    "\n",
    "# Evaluation\n",
    "mae = mean_absolute_error(y_test, y_pred)\n",
    "rmse = np.sqrt(mean_squared_error(y_test, y_pred))\n",
    "r2 = r2_score(y_test, y_pred)\n",
    "\n",
    "print(\"Linear Regression Baseline\")\n",
    "print(\"MAE:\", mae)\n",
    "print(\"RMSE:\", rmse)\n",
    "print(\"R²:\", r2)\n"
   ]
  }
 ],
 "metadata": {
  "kernelspec": {
   "display_name": "Python 3",
   "language": "python",
   "name": "python3"
  },
  "language_info": {
   "name": "python",
   "version": "3.9.6"
  }
 },
 "nbformat": 4,
 "nbformat_minor": 5
}
