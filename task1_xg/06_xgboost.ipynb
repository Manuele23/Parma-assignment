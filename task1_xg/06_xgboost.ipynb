{
 "cells": [
  {
   "cell_type": "markdown",
   "id": "04adfda7",
   "metadata": {},
   "source": [
    "## XGBoost for Expected Goals (xG) Modeling"
   ]
  },
  {
   "cell_type": "markdown",
   "id": "6b6655cb",
   "metadata": {},
   "source": [
    "This notebook applies **XGBoost (Extreme Gradient Boosting)** to estimate **expected goals (xG)** using dataset **DS4**.  \n",
    "XGBoost is a highly efficient and scalable implementation of **gradient boosted decision trees**, designed to deliver both accuracy and speed. \n",
    "\n",
    "While Random Forest aggregates many independent decision trees, XGBoost builds trees **sequentially**, where each new tree is trained to correct the errors of the previous ones.  This **boosting approach** makes the model more accurate and capable of capturing subtle patterns in the data, especially **non-linear relationships** and **complex feature interactions**.  \n",
    "\n",
    "To remain consistent with previous models, we evaluate XGBoost using:  \n",
    "\n",
    "- **RMSE (Root Mean Squared Error)** and **MAE (Mean Absolute Error)**, measuring prediction accuracy in absolute terms.  \n",
    "\n",
    "- **R² (Coefficient of Determination)** and **Explained Variance**, assessing how much of the variance in the target is captured by the model.  \n",
    "\n",
    "- **Pearson and Spearman Correlation**, quantifying the strength of linear and monotonic relationships between predicted and true values.  \n",
    "\n",
    "- **Calibration Curve**, providing a graphical evaluation of how closely predicted probabilities align with observed values across probability bins.\n"
   ]
  },
  {
   "cell_type": "markdown",
   "id": "f17b37bd",
   "metadata": {},
   "source": [
    "#### Imports and global settings"
   ]
  },
  {
   "cell_type": "code",
   "execution_count": null,
   "id": "f54db3ee",
   "metadata": {},
   "outputs": [],
   "source": [
    "import numpy as np\n",
    "import pandas as pd\n",
    "import matplotlib.pyplot as plt\n",
    "import seaborn as sns\n",
    "\n",
    "import warnings\n",
    "warnings.filterwarnings(\"ignore\")\n",
    "\n",
    "from xgboost import XGBRegressor\n",
    "from sklearn.metrics import root_mean_squared_error, mean_absolute_error, r2_score, explained_variance_score\n",
    "from scipy.stats import pearsonr, spearmanr\n",
    "from sklearn.model_selection import train_test_split\n",
    "\n",
    "import os\n",
    "import random\n",
    "\n",
    "# Reproducibility\n",
    "RANDOM_STATE = 42\n",
    "np.random.seed(RANDOM_STATE)\n",
    "random.seed(RANDOM_STATE)\n",
    "\n",
    "# Display options\n",
    "pd.set_option(\"display.max_columns\", None)\n",
    "pd.set_option(\"display.float_format\", lambda x: f\"{x:,.4f}\")\n",
    "\n",
    "# Output paths\n",
    "OUTPUT_DIR = \"../task1_xg/outputs\"\n",
    "os.makedirs(OUTPUT_DIR, exist_ok=True)\n",
    "\n",
    "# Model directory\n",
    "MODEL_DIR = \"../task1_xg/models\"\n",
    "os.makedirs(MODEL_DIR, exist_ok=True)\n",
    "\n",
    "print(\"Setup complete. Ready to load data.\")"
   ]
  },
  {
   "cell_type": "markdown",
   "id": "9d02dc53",
   "metadata": {},
   "source": [
    "####  Load dataset DS4"
   ]
  },
  {
   "cell_type": "code",
   "execution_count": null,
   "id": "65353ae7",
   "metadata": {},
   "outputs": [],
   "source": [
    "DATA_PATH = \"../task1_xg/data/DS4.csv\"\n",
    "ds4 = pd.read_csv(DATA_PATH)\n",
    "\n",
    "print(f\"Dataset loaded: {ds4.shape[0]} rows, {ds4.shape[1]} columns\")\n",
    "print(\"Columns:\", list(ds4.columns))\n",
    "\n",
    "# Preview first rows\n",
    "ds4.head()"
   ]
  },
  {
   "cell_type": "markdown",
   "id": "34cdd7e8",
   "metadata": {},
   "source": [
    "####  Define features, target and train/test split"
   ]
  },
  {
   "cell_type": "code",
   "execution_count": null,
   "metadata": {},
   "outputs": [],
   "source": [
    "# Define target column\n",
    "target_column = \"target_xg\"\n",
    "train_columns = [col for col in ds4.columns if col != target_column]\n",
    "\n",
    "X = ds4[train_columns]\n",
    "y = ds4[target_column]\n",
    "\n",
    "# Check on target\n",
    "print(\"\\nTarget (xG) stats:\")\n",
    "print(y.describe())\n",
    "print(f\"Range: {y.min():.4f} - {y.max():.4f}\")\n",
    "\n",
    "# Train/test split\n",
    "X_train, X_test, y_train, y_test = train_test_split(\n",
    "    X, y,\n",
    "    test_size=0.2,\n",
    "    random_state=RANDOM_STATE\n",
    ")\n",
    "\n",
    "print(f\"\\nTraining set: {X_train.shape[0]} rows, {X_train.shape[1]} features\")\n",
    "print(f\"Test set:     {X_test.shape[0]} rows, {X_test.shape[1]} features\")"
   ]
  },
  {
   "cell_type": "markdown",
   "id": "ae4385e0",
   "metadata": {},
   "source": [
    "#### Training the XGBoost Model"
   ]
  },
  {
   "cell_type": "markdown",
   "id": "d3459a66",
   "metadata": {},
   "source": []
  }
 ],
 "metadata": {
  "language_info": {
   "name": "python"
  }
 },
 "nbformat": 4,
 "nbformat_minor": 5
}
