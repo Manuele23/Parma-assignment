{
 "cells": [
  {
   "cell_type": "markdown",
   "id": "a871f34f",
   "metadata": {},
   "source": [
    "write for calibration the percentile ok target_xg to view why is better at the beginning"
   ]
  },
  {
   "cell_type": "markdown",
   "id": "54845671",
   "metadata": {},
   "source": []
  }
 ],
 "metadata": {
  "language_info": {
   "name": "python"
  }
 },
 "nbformat": 4,
 "nbformat_minor": 5
}
