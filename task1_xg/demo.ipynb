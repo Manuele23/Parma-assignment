{
 "cells": [
  {
   "cell_type": "markdown",
   "id": "b7b4ac57",
   "metadata": {},
   "source": [
    "# DA FARE BENE MA IDEA MOLTO MOLTO INTERESSANTE"
   ]
  },
  {
   "cell_type": "code",
   "execution_count": null,
   "id": "8dfe3340",
   "metadata": {},
   "outputs": [],
   "source": [
    "def demo_shot_prediction(idx, df, model, scaler=None):\n",
    "    \"\"\"\n",
    "    Demo: show details of a shot, predict xG, and compare with StatsBomb xG + real outcome.\n",
    "\n",
    "    Parameters\n",
    "    ----------\n",
    "    idx : int\n",
    "        Index of the shot in the dataframe\n",
    "    df : pd.DataFrame\n",
    "        Dataset containing shot information and features\n",
    "    model : trained ML model\n",
    "        Your trained xG model\n",
    "    scaler : optional\n",
    "        Scaler used during training (e.g., MinMaxScaler)\n",
    "    \"\"\"\n",
    "\n",
    "    # Extract shot row\n",
    "    shot = df.iloc[idx]\n",
    "\n",
    "    # Prepare input features (drop target and metadata if needed)\n",
    "    feature_cols = [\"distance_to_goal\", \"angle_to_goal\"]  # add other features if used\n",
    "    shot_features = shot[feature_cols].to_frame().T\n",
    "\n",
    "    # Apply scaling if required\n",
    "    if scaler:\n",
    "        shot_features = scaler.transform(shot_features)\n",
    "\n",
    "    # Predict xG with your model\n",
    "    xg_pred = model.predict_proba(shot_features)[0][1]\n",
    "\n",
    "    # Gather info\n",
    "    player = shot.get(\"player\", \"Unknown\")\n",
    "    minute = shot.get(\"minute\", \"N/A\")\n",
    "    xg_official = shot.get(\"shot_statsbomb_xg\", \"N/A\")\n",
    "    outcome = \"Goal\" if shot.get(\"shot_outcome\") == \"Goal\" else \"No Goal\"\n",
    "\n",
    "    # Print results\n",
    "    print(f\"--- Shot #{idx} ---\")\n",
    "    print(f\"Player: {player}, Minute: {minute}\")\n",
    "    print(f\"Predicted xG (Model): {xg_pred:.3f}\")\n",
    "    print(f\"Official StatsBomb xG: {xg_official:.3f}\" if xg_official != \"N/A\" else \"No official xG available\")\n",
    "    print(f\"Outcome: {outcome}\")\n"
   ]
  },
  {
   "cell_type": "code",
   "execution_count": null,
   "id": "c448faae",
   "metadata": {},
   "outputs": [],
   "source": [
    "# Test with a shot (example: row 150)\n",
    "demo_shot_prediction(150, ds1, xg_model, scaler)\n"
   ]
  }
 ],
 "metadata": {
  "language_info": {
   "name": "python"
  }
 },
 "nbformat": 4,
 "nbformat_minor": 5
}
