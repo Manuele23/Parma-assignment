{
 "cells": [
  {
   "cell_type": "markdown",
   "id": "b7b4ac57",
   "metadata": {},
   "source": [
    "# DA FARE BENE MA IDEA MOLTO MOLTO INTERESSANTE"
   ]
  },
  {
   "cell_type": "markdown",
   "id": "3c37fc41",
   "metadata": {},
   "source": [
    "Per il modello del rf, pesa troppo, scrivere che va runnato prima di fare la demo"
   ]
  },
  {
   "cell_type": "markdown",
   "id": "b5f92266",
   "metadata": {},
   "source": []
  }
 ],
 "metadata": {
  "language_info": {
   "name": "python"
  }
 },
 "nbformat": 4,
 "nbformat_minor": 5
}
